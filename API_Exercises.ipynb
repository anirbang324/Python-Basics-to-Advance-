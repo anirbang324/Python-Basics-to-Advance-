{
  "nbformat": 4,
  "nbformat_minor": 0,
  "metadata": {
    "colab": {
      "provenance": [],
      "authorship_tag": "ABX9TyPuzIKZ9HLsB1VTamYV5zVB",
      "include_colab_link": true
    },
    "kernelspec": {
      "name": "python3",
      "display_name": "Python 3"
    },
    "language_info": {
      "name": "python"
    }
  },
  "cells": [
    {
      "cell_type": "markdown",
      "metadata": {
        "id": "view-in-github",
        "colab_type": "text"
      },
      "source": [
        "<a href=\"https://colab.research.google.com/github/anirbang324/Python-Basics-to-Advance-/blob/main/API_Exercises.ipynb\" target=\"_parent\"><img src=\"https://colab.research.google.com/assets/colab-badge.svg\" alt=\"Open In Colab\"/></a>"
      ]
    },
    {
      "cell_type": "markdown",
      "source": [
        "API"
      ],
      "metadata": {
        "id": "wDnonXvF-Qus"
      }
    },
    {
      "cell_type": "code",
      "source": [
        "# predicting a person's age by his/her name\n",
        "# https://api.agify.io?name={}\n",
        "\n",
        "import requests\n",
        "\n",
        "def get_age_by_name(name):\n",
        "    url = \"https://api.agify.io?name={}\".format(name)\n",
        "    response = requests.get(url)\n",
        "    if response.status_code == 200:\n",
        "      data = response.json()\n",
        "      return data[\"age\"]\n",
        "    else:\n",
        "      return None\n",
        "\n",
        "if __name__ == \"__main__\":\n",
        "    name = input(\"Enter name: \")\n",
        "    age = get_age_by_name(name)\n",
        "    print(\"The age of {} is {}.\".format(name, age))"
      ],
      "metadata": {
        "colab": {
          "base_uri": "https://localhost:8080/"
        },
        "id": "I0F899iX-TCR",
        "outputId": "173569f2-bdc6-4c5b-83ac-19d3260fae55"
      },
      "execution_count": null,
      "outputs": [
        {
          "output_type": "stream",
          "name": "stdout",
          "text": [
            "Enter name: anirban\n",
            "The age of anirban is 43.\n"
          ]
        }
      ]
    },
    {
      "cell_type": "code",
      "source": [
        "# predicting a person's gender by his name\n",
        "# https://api.genderize.io/?name={}\n",
        "import requests\n",
        "\n",
        "def get_gender(name):\n",
        "  url = \"https://api.genderize.io/?name={}\".format(name)\n",
        "  response = requests.get(url)\n",
        "  if response.status_code == 200:\n",
        "    data = response.json()\n",
        "    return data[\"gender\"]\n",
        "  else:\n",
        "    return None\n",
        "\n",
        "if __name__ == \"__main__\":\n",
        "  name = input(\"Enter a name: \")\n",
        "  gender = get_gender(name)\n",
        "  if gender is not None:\n",
        "    print(\"The gender of {} is {}\".format(name, gender))\n",
        "  else:\n",
        "    print(\"The gender of {} could not be determined.\".format(name))\n"
      ],
      "metadata": {
        "colab": {
          "base_uri": "https://localhost:8080/"
        },
        "id": "UW5OnB-9-oHv",
        "outputId": "b3494ad5-f26e-4d1c-a60e-ea2c08de7095"
      },
      "execution_count": null,
      "outputs": [
        {
          "output_type": "stream",
          "name": "stdout",
          "text": [
            "Enter a name: Dominic\n",
            "The gender of Dominic is male\n"
          ]
        }
      ]
    },
    {
      "cell_type": "code",
      "source": [
        "# generating random dog images\n",
        "# https://dog.ceo/api/breeds/image/random\n",
        "\n",
        "import requests\n",
        "\n",
        "def get_random_dog_image():\n",
        "  response = requests.get(\"https://dog.ceo/api/breeds/image/random\")\n",
        "  if response.status_code == 200:\n",
        "    image_url = response.json()[\"message\"]\n",
        "    return image_url\n",
        "  else:\n",
        "    print(\"Error getting random dog image.\")\n",
        "    return None\n",
        "\n",
        "if __name__ == \"__main__\":\n",
        "  image_url = get_random_dog_image()\n",
        "  if image_url:\n",
        "    print(image_url)\n"
      ],
      "metadata": {
        "colab": {
          "base_uri": "https://localhost:8080/"
        },
        "id": "gAOX58hGAVmQ",
        "outputId": "38b5e641-8830-4a9f-b883-f91a3cd0d166"
      },
      "execution_count": null,
      "outputs": [
        {
          "output_type": "stream",
          "name": "stdout",
          "text": [
            "https://images.dog.ceo/breeds/hound-walker/n02089867_2319.jpg\n"
          ]
        }
      ]
    },
    {
      "cell_type": "code",
      "source": [
        "# Gets the current IP address using the ipify API.\n",
        "# https://api.ipify.org?format=json\n",
        "import requests\n",
        "\n",
        "def get_ip_address():\n",
        "\n",
        "    url = \"https://api.ipify.org?format=json\"\n",
        "    response = requests.get(url)\n",
        "    if response.status_code == 200:\n",
        "        ip_address = response.json()[\"ip\"]\n",
        "        return ip_address\n",
        "    else:\n",
        "        raise ValueError(f\"Error getting IP address: {response.status_code}\")\n",
        "\n",
        "if __name__ == \"__main__\":\n",
        "    ip_address = get_ip_address()\n",
        "    print(f\"Your current IP address is: {ip_address}\")\n"
      ],
      "metadata": {
        "colab": {
          "base_uri": "https://localhost:8080/"
        },
        "id": "hgkUeIcpAlzn",
        "outputId": "f9a65352-519a-4648-a866-6b55122f9c22"
      },
      "execution_count": null,
      "outputs": [
        {
          "output_type": "stream",
          "name": "stdout",
          "text": [
            "Your current IP address is: 34.168.141.172\n"
          ]
        }
      ]
    },
    {
      "cell_type": "code",
      "source": [
        "# import requests\n",
        "\n",
        "# # The base URL of the Dictionary API\n",
        "# base_url = 'https://api.dictionaryapi.dev/api/v2/entries/en/{}'\n",
        "\n",
        "# # Get the user input\n",
        "# word = input('Enter a word: ')\n",
        "\n",
        "# # Make a request to the API\n",
        "# response = requests.get(base_url.format(word))\n",
        "\n",
        "# # Check the response status code\n",
        "# if response.status_code == 200:\n",
        "#     # The request was successful, parse the JSON response\n",
        "#     response_json = response.json()\n",
        "\n",
        "#     # Create a dictionary from the JSON response\n",
        "#     dictionary = {\n",
        "#         word: {\n",
        "#             'pronunciation': response_json['pronunciations'][0]['all'],\n",
        "#             'meanings': [meaning['definitions'][0] for meaning in response_json['meanings']],\n",
        "#         }\n",
        "#     }\n",
        "\n",
        "#     print(dictionary)\n",
        "\n",
        "# else:\n",
        "#     # The request failed, raise an error\n",
        "#     raise ValueError(f'API request failed with status code {response.status_code}')\n"
      ],
      "metadata": {
        "id": "I9kH9siJA7z7"
      },
      "execution_count": null,
      "outputs": []
    }
  ]
}